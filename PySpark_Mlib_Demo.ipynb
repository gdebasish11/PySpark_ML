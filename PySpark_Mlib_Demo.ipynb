{
  "nbformat": 4,
  "nbformat_minor": 0,
  "metadata": {
    "colab": {
      "provenance": [],
      "authorship_tag": "ABX9TyOnu2MnhHZc/UqaM3c2wrw5",
      "include_colab_link": true
    },
    "kernelspec": {
      "name": "python3",
      "display_name": "Python 3"
    },
    "language_info": {
      "name": "python"
    }
  },
  "cells": [
    {
      "cell_type": "markdown",
      "metadata": {
        "id": "view-in-github",
        "colab_type": "text"
      },
      "source": [
        "<a href=\"https://colab.research.google.com/github/gdebasish11/PySpark_ML/blob/main/PySpark_Mlib_Demo.ipynb\" target=\"_parent\"><img src=\"https://colab.research.google.com/assets/colab-badge.svg\" alt=\"Open In Colab\"/></a>"
      ]
    },
    {
      "cell_type": "code",
      "source": [
        "#Next, we will install Apache Spark 3.0.1 with Hadoop 2.7\n",
        "#!wget -q https://www-us.apache.org/dist/spark/spark-3.0.1/spark-3.0.1-bin-hadoop2.7.tgz\n",
        "\n",
        "# install spark (change the version number if needed)\n",
        "!wget -q https://archive.apache.org/dist/spark/spark-3.0.0/spark-3.0.0-bin-hadoop3.2.tgz"
      ],
      "metadata": {
        "id": "GRwyzlo8Fccs"
      },
      "execution_count": null,
      "outputs": []
    },
    {
      "cell_type": "code",
      "source": [
        "!pip install pyspark"
      ],
      "metadata": {
        "colab": {
          "base_uri": "https://localhost:8080/"
        },
        "id": "soeVl3JkJ19u",
        "outputId": "e0988d4e-efc3-4e97-e81d-4a99991cc8cd"
      },
      "execution_count": null,
      "outputs": [
        {
          "output_type": "stream",
          "name": "stdout",
          "text": [
            "Looking in indexes: https://pypi.org/simple, https://us-python.pkg.dev/colab-wheels/public/simple/\n",
            "Collecting pyspark\n",
            "  Downloading pyspark-3.3.1.tar.gz (281.4 MB)\n",
            "\u001b[K     |████████████████████████████████| 281.4 MB 41 kB/s \n",
            "\u001b[?25hCollecting py4j==0.10.9.5\n",
            "  Downloading py4j-0.10.9.5-py2.py3-none-any.whl (199 kB)\n",
            "\u001b[K     |████████████████████████████████| 199 kB 53.1 MB/s \n",
            "\u001b[?25hBuilding wheels for collected packages: pyspark\n",
            "  Building wheel for pyspark (setup.py) ... \u001b[?25l\u001b[?25hdone\n",
            "  Created wheel for pyspark: filename=pyspark-3.3.1-py2.py3-none-any.whl size=281845512 sha256=d447dd15216f51d261845cfdd89693fd19de98d32242cae6de8a7a2ed896c74d\n",
            "  Stored in directory: /root/.cache/pip/wheels/43/dc/11/ec201cd671da62fa9c5cc77078235e40722170ceba231d7598\n",
            "Successfully built pyspark\n",
            "Installing collected packages: py4j, pyspark\n",
            "Successfully installed py4j-0.10.9.5 pyspark-3.3.1\n"
          ]
        }
      ]
    },
    {
      "cell_type": "code",
      "source": [
        "from google.colab import drive\n",
        "drive.mount('/content/drive')"
      ],
      "metadata": {
        "id": "hUPzn0ukFcgv",
        "colab": {
          "base_uri": "https://localhost:8080/"
        },
        "outputId": "a4056424-b36b-478a-a7bc-794c4a1a73c0"
      },
      "execution_count": null,
      "outputs": [
        {
          "output_type": "stream",
          "name": "stdout",
          "text": [
            "Mounted at /content/drive\n"
          ]
        }
      ]
    },
    {
      "cell_type": "code",
      "source": [
        "!pip install pyspark==3.0.1 py4j==0.10.9 "
      ],
      "metadata": {
        "id": "HRxthFGVIxaZ"
      },
      "execution_count": null,
      "outputs": []
    },
    {
      "cell_type": "code",
      "source": [
        "##import findspark\n",
        "#findspark.init()\n",
        "#from pyspark.sql import SparkSession\n",
        "#spark = SparkSession.builder.master(\"local[*]\").getOrCreate()\n"
      ],
      "metadata": {
        "id": "BWxdoNN0I0Dx"
      },
      "execution_count": null,
      "outputs": []
    },
    {
      "cell_type": "code",
      "source": [
        "from pyspark.sql import SparkSession\n",
        "\n",
        "spark = SparkSession.builder\\\n",
        "        .master(\"local[2]\")\\\n",
        "        .appName('PySpark_MLLIB_Demo')\\\n",
        "        .getOrCreate()\n",
        "\n",
        "# where the '*' represents all the cores of the CPU.\n",
        "##Craete sparkcontext from spark session\n",
        "sc=spark.sparkContext"
      ],
      "metadata": {
        "id": "d-qRPfewIxc9"
      },
      "execution_count": null,
      "outputs": []
    },
    {
      "cell_type": "code",
      "source": [
        "# Word Count using Spark\n",
        "text_file = sc.textFile(\"/content/drive/MyDrive/Story.txt\")\n",
        "\n",
        "counts=text_file.flatMap(lambda line:line.split(\" \"))\\\n",
        "                .map(lambda s:(s,1))\\\n",
        "                .reduceByKey(lambda x,y:x+y)\n",
        "counts.collect()"
      ],
      "metadata": {
        "colab": {
          "base_uri": "https://localhost:8080/"
        },
        "id": "udGm5P8Xr2Fe",
        "outputId": "59578299-8351-4724-91bb-bf3ba57dc1e6"
      },
      "execution_count": null,
      "outputs": [
        {
          "output_type": "execute_result",
          "data": {
            "text/plain": [
              "[('of', 30),\n",
              " ('21st', 1),\n",
              " ('India', 5),\n",
              " ('is', 8),\n",
              " ('only', 1),\n",
              " ('country', 1),\n",
              " ('have', 5),\n",
              " ('both', 2),\n",
              " ('wild', 1),\n",
              " ('lions', 15),\n",
              " ('tigers,', 2),\n",
              " ('Though', 1),\n",
              " ('do', 1),\n",
              " ('share', 1),\n",
              " ('territory,', 1),\n",
              " ('in', 17),\n",
              " ('past,[7][13][27]', 1),\n",
              " ('there', 4),\n",
              " ('project', 1),\n",
              " ('below', 1),\n",
              " ('meeting', 1),\n",
              " ('', 3),\n",
              " ('The', 3),\n",
              " ('possibility', 1),\n",
              " ('raised', 2),\n",
              " ('relation', 1),\n",
              " (\"India's\", 1),\n",
              " ('was', 7),\n",
              " ('Gir', 2),\n",
              " ('Forest', 2),\n",
              " ('State', 1),\n",
              " ('reserve', 1),\n",
              " ('considered', 3),\n",
              " ('lion,', 3),\n",
              " ('Pradesh,[28]', 1),\n",
              " ('before', 5),\n",
              " ('2017.[30][31]', 1),\n",
              " ('reported', 1),\n",
              " ('came', 1),\n",
              " ('Ranthambore', 1),\n",
              " ('National', 1),\n",
              " ('co-presence', 1),\n",
              " ('would', 6),\n",
              " ('clashes\".[32]', 1),\n",
              " ('At', 1),\n",
              " ('American', 1),\n",
              " ('Craig', 2),\n",
              " ('his', 1),\n",
              " ('at', 1),\n",
              " ('University', 1),\n",
              " ('Minnesota', 1),\n",
              " ('group', 2),\n",
              " ('three', 1),\n",
              " ('clear', 1),\n",
              " ('tiger', 5),\n",
              " ('pack', 1),\n",
              " ('four', 1),\n",
              " ('females)', 1),\n",
              " ('similar', 2),\n",
              " ('despite', 1),\n",
              " ('latter', 1),\n",
              " ('height.', 1),\n",
              " ('Coalitions', 1),\n",
              " ('fight', 2),\n",
              " ('as', 9),\n",
              " ('against', 1),\n",
              " ('he', 2),\n",
              " ('may', 2),\n",
              " ('an', 3),\n",
              " ('one-on-one', 1),\n",
              " ('encounter,', 1),\n",
              " ('but', 2),\n",
              " ('additional', 1),\n",
              " ('fighting', 3),\n",
              " ('mane', 1),\n",
              " ('perhaps', 1),\n",
              " ('lion', 1),\n",
              " ('style', 1),\n",
              " ('mane.', 1),\n",
              " ('Despite', 1),\n",
              " ('this,', 1),\n",
              " ('opinion', 2),\n",
              " ('area', 1),\n",
              " ('intact', 1),\n",
              " ('groups', 1),\n",
              " ('rather', 1),\n",
              " ('than', 1),\n",
              " ('individuals.[7]', 1),\n",
              " ('habitats', 1),\n",
              " ('Indian', 5),\n",
              " ('are', 4),\n",
              " ('means', 1),\n",
              " ('live', 1),\n",
              " ('conditions', 1),\n",
              " ('these', 1),\n",
              " ('social', 1),\n",
              " ('like', 2),\n",
              " ('African', 1),\n",
              " ('form', 1),\n",
              " ('whereas', 1),\n",
              " ('Ranthambhore', 1),\n",
              " ('Sariska', 1),\n",
              " ('Kuno-Palpur', 1),\n",
              " ('ecoregion', 1),\n",
              " ('Khathiar–Gir', 1),\n",
              " ('deciduous', 1),\n",
              " ('2019,', 1),\n",
              " ('Pradesh', 1),\n",
              " ('apparently', 1),\n",
              " ('Forest,', 1),\n",
              " ('potential', 1),\n",
              " ('habit', 1),\n",
              " ('(1939)', 1),\n",
              " ('played', 2),\n",
              " ('near-extinction', 2),\n",
              " ('dismissed', 1),\n",
              " ('this', 1),\n",
              " (\"'fanciful'.\", 1),\n",
              " ('According', 1),\n",
              " ('evidence', 1),\n",
              " ('Subcontinent', 1),\n",
              " ('lions.', 1),\n",
              " ('likely', 2),\n",
              " ('entered', 2),\n",
              " ('eastern', 1),\n",
              " ('end', 1),\n",
              " ('Himalayas,', 1),\n",
              " ('started', 1),\n",
              " ('area,', 1),\n",
              " ('River.', 1),\n",
              " ('Because', 1),\n",
              " ('that,', 1),\n",
              " ('presence', 2),\n",
              " ('lions,', 1),\n",
              " ('reached', 1),\n",
              " ('reach.', 1),\n",
              " ('However,', 1),\n",
              " ('stop', 1),\n",
              " ('there,', 1),\n",
              " ('place,', 1),\n",
              " ('said', 1),\n",
              " ('unlikely', 2),\n",
              " ('role,', 1),\n",
              " ('significant', 1),\n",
              " ('subordinate,', 1),\n",
              " ('responsible', 1),\n",
              " ('it,[13]', 1),\n",
              " ('decline', 1),\n",
              " (\"tigers'\", 1),\n",
              " ('numbers.As', 1),\n",
              " ('such,', 1),\n",
              " ('thought', 1),\n",
              " ('them', 1),\n",
              " ('occurred,', 1),\n",
              " ('even', 1),\n",
              " ('met,', 1),\n",
              " ('chance', 2),\n",
              " ('survival', 1),\n",
              " ('good', 2),\n",
              " ('chances', 1),\n",
              " (\"other's.[13]\", 1),\n",
              " ('As', 1),\n",
              " ('the', 46),\n",
              " ('century,', 1),\n",
              " ('to', 17),\n",
              " ('and', 18),\n",
              " ('specifically', 1),\n",
              " ('Asiatic', 3),\n",
              " ('Bengal', 4),\n",
              " ('tigers.[2][26]', 1),\n",
              " ('they', 7),\n",
              " ('not', 3),\n",
              " ('same', 1),\n",
              " ('did', 3),\n",
              " ('a', 16),\n",
              " ('mentioned', 2),\n",
              " ('that', 23),\n",
              " ('could', 2),\n",
              " ('lead', 1),\n",
              " ('their', 3),\n",
              " ('wild.[28][29]', 1),\n",
              " ('conflict', 1),\n",
              " ('between', 2),\n",
              " ('tigers', 11),\n",
              " ('had', 2),\n",
              " ('been', 1),\n",
              " ('Lion', 1),\n",
              " ('Reintroduction', 1),\n",
              " ('Project,', 1),\n",
              " ('which', 3),\n",
              " ('meant', 1),\n",
              " ('introduce', 1),\n",
              " ('Gujarat,', 2),\n",
              " ('another', 1),\n",
              " ('be', 2),\n",
              " ('within', 1),\n",
              " ('former', 1),\n",
              " ('range', 1),\n",
              " ('Kuno', 2),\n",
              " ('Wildlife', 1),\n",
              " ('Sanctuary', 1),\n",
              " ('Madhya', 2),\n",
              " ('December', 1),\n",
              " ('contain', 1),\n",
              " ('some', 2),\n",
              " ('from', 4),\n",
              " ('Park,', 1),\n",
              " ('including', 1),\n",
              " ('one', 1),\n",
              " ('called', 1),\n",
              " ('.Concerns', 1),\n",
              " ('were', 3),\n",
              " ('\"trigger', 1),\n",
              " ('frequent', 1),\n",
              " ('same,', 1),\n",
              " ('biologist', 1),\n",
              " ('Packer', 2),\n",
              " ('students', 1),\n",
              " ('(two', 2),\n",
              " ('males)', 1),\n",
              " ('advantage', 5),\n",
              " ('over', 2),\n",
              " ('lionesses', 1),\n",
              " ('tigress,', 1),\n",
              " ('general', 1),\n",
              " ('weight', 1),\n",
              " ('or', 3),\n",
              " ('male', 2),\n",
              " ('usually', 2),\n",
              " ('territorial', 1),\n",
              " ('rivals,', 1),\n",
              " ('so', 2),\n",
              " ('mentions', 1),\n",
              " ('also', 1),\n",
              " ('experience', 1),\n",
              " ('confer', 1),\n",
              " ('lone', 1),\n",
              " ('since', 1),\n",
              " (\"tiger's\", 1),\n",
              " ('evolved', 1),\n",
              " ('absence', 1),\n",
              " ('all', 2),\n",
              " ('for', 3),\n",
              " ('survive', 1),\n",
              " ('with', 2),\n",
              " ('moved', 1),\n",
              " ('Although', 1),\n",
              " ('favour', 1),\n",
              " ('solitary', 1),\n",
              " ('hunters', 1),\n",
              " ('prey,[14]', 1),\n",
              " ('relatives,[33]', 1),\n",
              " ('groups,', 1),\n",
              " ('solitary.[7]', 1),\n",
              " ('reserves', 1),\n",
              " ('Rajasthan,', 1),\n",
              " ('located', 1),\n",
              " ('dry', 1),\n",
              " ('forests.[34][35]', 1),\n",
              " ('In', 1),\n",
              " ('early', 1),\n",
              " ('trekked', 1),\n",
              " ('dying', 1),\n",
              " ('starvation.[36]', 1),\n",
              " ('Otherwise,', 1),\n",
              " ('Gujarat', 1),\n",
              " (\"Dangs'\", 1),\n",
              " ('tiger.[25]', 1),\n",
              " ('Reginald', 1),\n",
              " ('Innes', 1),\n",
              " ('Pocock', 3),\n",
              " ('people', 1),\n",
              " ('role', 1),\n",
              " ('view', 1),\n",
              " ('him,', 1),\n",
              " ('inhabited', 1),\n",
              " ('Northern', 2),\n",
              " ('through', 1),\n",
              " ('Burma,', 1),\n",
              " ('spreading', 1),\n",
              " ('throughout', 2),\n",
              " ('Balochistan', 1),\n",
              " ('Persia,', 1),\n",
              " ('spread', 3),\n",
              " ('places', 1),\n",
              " ('Nerbudda', 1),\n",
              " ('man', 2),\n",
              " ('limit', 1),\n",
              " ('parts', 1),\n",
              " ('first', 1),\n",
              " ('it', 2),\n",
              " ('rather,', 1),\n",
              " ('case', 1),\n",
              " ('serious', 1),\n",
              " ('competition', 1),\n",
              " ('regularly', 1),\n",
              " ('if', 2),\n",
              " ('choose', 1),\n",
              " ('avoid', 1),\n",
              " ('each', 2),\n",
              " ('other,', 1),\n",
              " ('success,', 1),\n",
              " ('clash,', 1)]"
            ]
          },
          "metadata": {},
          "execution_count": 7
        }
      ]
    },
    {
      "cell_type": "code",
      "source": [],
      "metadata": {
        "id": "kXUwnDLlr2TO"
      },
      "execution_count": null,
      "outputs": []
    },
    {
      "cell_type": "code",
      "source": [
        "# Reading CSV file\n",
        "\n",
        "csv_file = '/content/sample_data/california_housing_train.csv'\n",
        "df = spark.read.csv(csv_file,header=True,inferSchema=True)"
      ],
      "metadata": {
        "id": "kY2jKqEQObCU"
      },
      "execution_count": null,
      "outputs": []
    },
    {
      "cell_type": "code",
      "source": [
        "df.printSchema()"
      ],
      "metadata": {
        "colab": {
          "base_uri": "https://localhost:8080/"
        },
        "id": "ZgrlVsNBObE0",
        "outputId": "7012e765-0902-4056-e311-4054510d0c28"
      },
      "execution_count": null,
      "outputs": [
        {
          "output_type": "stream",
          "name": "stdout",
          "text": [
            "root\n",
            " |-- longitude: double (nullable = true)\n",
            " |-- latitude: double (nullable = true)\n",
            " |-- housing_median_age: double (nullable = true)\n",
            " |-- total_rooms: double (nullable = true)\n",
            " |-- total_bedrooms: double (nullable = true)\n",
            " |-- population: double (nullable = true)\n",
            " |-- households: double (nullable = true)\n",
            " |-- median_income: double (nullable = true)\n",
            " |-- median_house_value: double (nullable = true)\n",
            "\n"
          ]
        }
      ]
    },
    {
      "cell_type": "code",
      "source": [
        "df.show(5)"
      ],
      "metadata": {
        "colab": {
          "base_uri": "https://localhost:8080/"
        },
        "id": "YnsVrawJObHT",
        "outputId": "8b5a1cb2-a6e7-4dc6-edec-0ee75cbd3586"
      },
      "execution_count": null,
      "outputs": [
        {
          "output_type": "stream",
          "name": "stdout",
          "text": [
            "+---------+--------+------------------+-----------+--------------+----------+----------+-------------+------------------+\n",
            "|longitude|latitude|housing_median_age|total_rooms|total_bedrooms|population|households|median_income|median_house_value|\n",
            "+---------+--------+------------------+-----------+--------------+----------+----------+-------------+------------------+\n",
            "|  -114.31|   34.19|              15.0|     5612.0|        1283.0|    1015.0|     472.0|       1.4936|           66900.0|\n",
            "|  -114.47|    34.4|              19.0|     7650.0|        1901.0|    1129.0|     463.0|         1.82|           80100.0|\n",
            "|  -114.56|   33.69|              17.0|      720.0|         174.0|     333.0|     117.0|       1.6509|           85700.0|\n",
            "|  -114.57|   33.64|              14.0|     1501.0|         337.0|     515.0|     226.0|       3.1917|           73400.0|\n",
            "|  -114.57|   33.57|              20.0|     1454.0|         326.0|     624.0|     262.0|        1.925|           65500.0|\n",
            "+---------+--------+------------------+-----------+--------------+----------+----------+-------------+------------------+\n",
            "only showing top 5 rows\n",
            "\n"
          ]
        }
      ]
    },
    {
      "cell_type": "code",
      "source": [
        "df.dtypes"
      ],
      "metadata": {
        "id": "4Pz9DMNRObJu",
        "colab": {
          "base_uri": "https://localhost:8080/"
        },
        "outputId": "7a36e94d-f3f5-4607-95a5-56ea19c5c76f"
      },
      "execution_count": null,
      "outputs": [
        {
          "output_type": "execute_result",
          "data": {
            "text/plain": [
              "[('longitude', 'double'),\n",
              " ('latitude', 'double'),\n",
              " ('housing_median_age', 'double'),\n",
              " ('total_rooms', 'double'),\n",
              " ('total_bedrooms', 'double'),\n",
              " ('population', 'double'),\n",
              " ('households', 'double'),\n",
              " ('median_income', 'double'),\n",
              " ('median_house_value', 'double')]"
            ]
          },
          "metadata": {},
          "execution_count": 11
        }
      ]
    },
    {
      "cell_type": "code",
      "source": [
        "df.describe().show()"
      ],
      "metadata": {
        "id": "Vq3sO9MIlnTi",
        "colab": {
          "base_uri": "https://localhost:8080/"
        },
        "outputId": "eaa283fb-cf1c-4cc1-80eb-e88d4dd380e0"
      },
      "execution_count": null,
      "outputs": [
        {
          "output_type": "stream",
          "name": "stdout",
          "text": [
            "+-------+-------------------+------------------+------------------+-----------------+-----------------+------------------+-----------------+------------------+------------------+\n",
            "|summary|          longitude|          latitude|housing_median_age|      total_rooms|   total_bedrooms|        population|       households|     median_income|median_house_value|\n",
            "+-------+-------------------+------------------+------------------+-----------------+-----------------+------------------+-----------------+------------------+------------------+\n",
            "|  count|              17000|             17000|             17000|            17000|            17000|             17000|            17000|             17000|             17000|\n",
            "|   mean|-119.56210823529375|  35.6252247058827| 28.58935294117647|2643.664411764706|539.4108235294118|1429.5739411764705|501.2219411764706| 3.883578100000021|207300.91235294117|\n",
            "| stddev| 2.0051664084260357|2.1373397946570867|12.586936981660406|2179.947071452777|421.4994515798648| 1147.852959159527|384.5208408559016|1.9081565183791036|115983.76438720895|\n",
            "|    min|            -124.35|             32.54|               1.0|              2.0|              1.0|               3.0|              1.0|            0.4999|           14999.0|\n",
            "|    max|            -114.31|             41.95|              52.0|          37937.0|           6445.0|           35682.0|           6082.0|           15.0001|          500001.0|\n",
            "+-------+-------------------+------------------+------------------+-----------------+-----------------+------------------+-----------------+------------------+------------------+\n",
            "\n"
          ]
        }
      ]
    },
    {
      "cell_type": "markdown",
      "source": [
        "**Add columns**"
      ],
      "metadata": {
        "id": "O1R_mgG7k3rB"
      }
    },
    {
      "cell_type": "code",
      "source": [
        "data=df.withColumn(\"new_total_rooms\",df['total_rooms'].cast('Integer'))"
      ],
      "metadata": {
        "id": "1oKP2P6SlnX9"
      },
      "execution_count": null,
      "outputs": []
    },
    {
      "cell_type": "code",
      "source": [
        "data=df.withColumn(\"new_total_bedrooms\",(df['total_bedrooms'].cast('Integer'))+100)"
      ],
      "metadata": {
        "id": "U1CQTS6SphZS"
      },
      "execution_count": null,
      "outputs": []
    },
    {
      "cell_type": "code",
      "source": [
        "data.show(5)"
      ],
      "metadata": {
        "id": "arGJfEY8lnaq",
        "colab": {
          "base_uri": "https://localhost:8080/"
        },
        "outputId": "3eefbcdc-9db1-4043-8717-3a03bbda2c9d"
      },
      "execution_count": null,
      "outputs": [
        {
          "output_type": "stream",
          "name": "stdout",
          "text": [
            "+---------+--------+------------------+-----------+--------------+----------+----------+-------------+------------------+------------------+\n",
            "|longitude|latitude|housing_median_age|total_rooms|total_bedrooms|population|households|median_income|median_house_value|new_total_bedrooms|\n",
            "+---------+--------+------------------+-----------+--------------+----------+----------+-------------+------------------+------------------+\n",
            "|  -114.31|   34.19|              15.0|     5612.0|        1283.0|    1015.0|     472.0|       1.4936|           66900.0|              1383|\n",
            "|  -114.47|    34.4|              19.0|     7650.0|        1901.0|    1129.0|     463.0|         1.82|           80100.0|              2001|\n",
            "|  -114.56|   33.69|              17.0|      720.0|         174.0|     333.0|     117.0|       1.6509|           85700.0|               274|\n",
            "|  -114.57|   33.64|              14.0|     1501.0|         337.0|     515.0|     226.0|       3.1917|           73400.0|               437|\n",
            "|  -114.57|   33.57|              20.0|     1454.0|         326.0|     624.0|     262.0|        1.925|           65500.0|               426|\n",
            "+---------+--------+------------------+-----------+--------------+----------+----------+-------------+------------------+------------------+\n",
            "only showing top 5 rows\n",
            "\n"
          ]
        }
      ]
    },
    {
      "cell_type": "markdown",
      "source": [
        "**Update column**"
      ],
      "metadata": {
        "id": "PFIq15c-rMbh"
      }
    },
    {
      "cell_type": "code",
      "source": [
        "data=data.withColumnRenamed('new_total_bedrooms','total_bedrooms_100')"
      ],
      "metadata": {
        "id": "sBEuUkT-nMNT"
      },
      "execution_count": null,
      "outputs": []
    },
    {
      "cell_type": "code",
      "source": [
        "data.show(3)"
      ],
      "metadata": {
        "colab": {
          "base_uri": "https://localhost:8080/"
        },
        "id": "sVQ3s7WenMQZ",
        "outputId": "86a926cf-43d8-4726-d337-3c6fedbaa38d"
      },
      "execution_count": null,
      "outputs": [
        {
          "output_type": "stream",
          "name": "stdout",
          "text": [
            "+---------+--------+------------------+-----------+--------------+----------+----------+-------------+------------------+------------------+\n",
            "|longitude|latitude|housing_median_age|total_rooms|total_bedrooms|population|households|median_income|median_house_value|total_bedrooms_100|\n",
            "+---------+--------+------------------+-----------+--------------+----------+----------+-------------+------------------+------------------+\n",
            "|  -114.31|   34.19|              15.0|     5612.0|        1283.0|    1015.0|     472.0|       1.4936|           66900.0|              1383|\n",
            "|  -114.47|    34.4|              19.0|     7650.0|        1901.0|    1129.0|     463.0|         1.82|           80100.0|              2001|\n",
            "|  -114.56|   33.69|              17.0|      720.0|         174.0|     333.0|     117.0|       1.6509|           85700.0|               274|\n",
            "+---------+--------+------------------+-----------+--------------+----------+----------+-------------+------------------+------------------+\n",
            "only showing top 3 rows\n",
            "\n"
          ]
        }
      ]
    },
    {
      "cell_type": "markdown",
      "source": [
        "**Delete Column**"
      ],
      "metadata": {
        "id": "3CtOd2pGrkW5"
      }
    },
    {
      "cell_type": "code",
      "source": [
        "data=data.drop('total_bedrooms_100')"
      ],
      "metadata": {
        "id": "Er8RevfWrnem"
      },
      "execution_count": null,
      "outputs": []
    },
    {
      "cell_type": "code",
      "source": [
        "## total record and columns in dataframe\n",
        "data.count(),len(df.columns)"
      ],
      "metadata": {
        "colab": {
          "base_uri": "https://localhost:8080/"
        },
        "id": "WmM-ky49rhGN",
        "outputId": "7876f42c-dea0-4f8f-9b23-ca36d0df84aa"
      },
      "execution_count": null,
      "outputs": [
        {
          "output_type": "execute_result",
          "data": {
            "text/plain": [
              "(17000, 9)"
            ]
          },
          "metadata": {},
          "execution_count": 19
        }
      ]
    },
    {
      "cell_type": "code",
      "source": [
        "data.show(5)"
      ],
      "metadata": {
        "colab": {
          "base_uri": "https://localhost:8080/"
        },
        "id": "E4uO8q9xu5KE",
        "outputId": "e5881fa0-539b-4a60-c9d4-55cbe44c0063"
      },
      "execution_count": null,
      "outputs": [
        {
          "output_type": "stream",
          "name": "stdout",
          "text": [
            "+---------+--------+------------------+-----------+--------------+----------+----------+-------------+------------------+\n",
            "|longitude|latitude|housing_median_age|total_rooms|total_bedrooms|population|households|median_income|median_house_value|\n",
            "+---------+--------+------------------+-----------+--------------+----------+----------+-------------+------------------+\n",
            "|  -114.31|   34.19|              15.0|     5612.0|        1283.0|    1015.0|     472.0|       1.4936|           66900.0|\n",
            "|  -114.47|    34.4|              19.0|     7650.0|        1901.0|    1129.0|     463.0|         1.82|           80100.0|\n",
            "|  -114.56|   33.69|              17.0|      720.0|         174.0|     333.0|     117.0|       1.6509|           85700.0|\n",
            "|  -114.57|   33.64|              14.0|     1501.0|         337.0|     515.0|     226.0|       3.1917|           73400.0|\n",
            "|  -114.57|   33.57|              20.0|     1454.0|         326.0|     624.0|     262.0|        1.925|           65500.0|\n",
            "+---------+--------+------------------+-----------+--------------+----------+----------+-------------+------------------+\n",
            "only showing top 5 rows\n",
            "\n"
          ]
        }
      ]
    },
    {
      "cell_type": "markdown",
      "source": [
        "**##Filter data**"
      ],
      "metadata": {
        "id": "dpwT_II2vWye"
      }
    },
    {
      "cell_type": "code",
      "source": [
        "\n",
        "from pyspark.sql.functions import col, lit\n",
        "data.filter(col('median_house_value')>70000).show(5)"
      ],
      "metadata": {
        "colab": {
          "base_uri": "https://localhost:8080/"
        },
        "id": "m1bvXKyerhIm",
        "outputId": "fd1fd777-c277-4ded-b5df-f173673ac5fe"
      },
      "execution_count": null,
      "outputs": [
        {
          "output_type": "stream",
          "name": "stdout",
          "text": [
            "+---------+--------+------------------+-----------+--------------+----------+----------+-------------+------------------+\n",
            "|longitude|latitude|housing_median_age|total_rooms|total_bedrooms|population|households|median_income|median_house_value|\n",
            "+---------+--------+------------------+-----------+--------------+----------+----------+-------------+------------------+\n",
            "|  -114.47|    34.4|              19.0|     7650.0|        1901.0|    1129.0|     463.0|         1.82|           80100.0|\n",
            "|  -114.56|   33.69|              17.0|      720.0|         174.0|     333.0|     117.0|       1.6509|           85700.0|\n",
            "|  -114.57|   33.64|              14.0|     1501.0|         337.0|     515.0|     226.0|       3.1917|           73400.0|\n",
            "|  -114.58|   33.63|              29.0|     1387.0|         236.0|     671.0|     239.0|       3.3438|           74000.0|\n",
            "|  -114.58|   33.61|              25.0|     2907.0|         680.0|    1841.0|     633.0|       2.6768|           82400.0|\n",
            "+---------+--------+------------------+-----------+--------------+----------+----------+-------------+------------------+\n",
            "only showing top 5 rows\n",
            "\n"
          ]
        }
      ]
    },
    {
      "cell_type": "code",
      "source": [
        "data.filter((col('housing_median_age')>20 )& (col('median_house_value')>70000)).show(4)"
      ],
      "metadata": {
        "colab": {
          "base_uri": "https://localhost:8080/"
        },
        "id": "KeVyARMsrhLL",
        "outputId": "be8025b6-9ed0-4378-c8ec-2b9e3a7d1f16"
      },
      "execution_count": null,
      "outputs": [
        {
          "output_type": "stream",
          "name": "stdout",
          "text": [
            "+---------+--------+------------------+-----------+--------------+----------+----------+-------------+------------------+\n",
            "|longitude|latitude|housing_median_age|total_rooms|total_bedrooms|population|households|median_income|median_house_value|\n",
            "+---------+--------+------------------+-----------+--------------+----------+----------+-------------+------------------+\n",
            "|  -114.58|   33.63|              29.0|     1387.0|         236.0|     671.0|     239.0|       3.3438|           74000.0|\n",
            "|  -114.58|   33.61|              25.0|     2907.0|         680.0|    1841.0|     633.0|       2.6768|           82400.0|\n",
            "|  -114.61|   34.83|              31.0|     2478.0|         464.0|    1346.0|     479.0|        3.212|           70400.0|\n",
            "|  -114.65|    33.6|              28.0|     1678.0|         322.0|     666.0|     256.0|       2.9653|           94900.0|\n",
            "+---------+--------+------------------+-----------+--------------+----------+----------+-------------+------------------+\n",
            "only showing top 4 rows\n",
            "\n"
          ]
        }
      ]
    },
    {
      "cell_type": "markdown",
      "source": [
        "**##When**"
      ],
      "metadata": {
        "id": "B8DGV1N5wGzd"
      }
    },
    {
      "cell_type": "code",
      "source": [
        "from pyspark.sql.functions import when\n",
        "data=data.withColumn(\"is_greater\", when(col(\"housing_median_age\") >=20.0 ,lit(\"Met\"))\n",
        "                              .when(col(\"housing_median_age\") >=29.0 ,lit(\"Half Met\"))\n",
        "                              .otherwise(lit(\"not met\")))\n",
        "data.show(4)"
      ],
      "metadata": {
        "colab": {
          "base_uri": "https://localhost:8080/"
        },
        "id": "hgVfGCVdv7hN",
        "outputId": "c574e6cf-8631-4ce4-d13d-e90ae0fabc0a"
      },
      "execution_count": null,
      "outputs": [
        {
          "output_type": "stream",
          "name": "stdout",
          "text": [
            "+---------+--------+------------------+-----------+--------------+----------+----------+-------------+------------------+----------+\n",
            "|longitude|latitude|housing_median_age|total_rooms|total_bedrooms|population|households|median_income|median_house_value|is_greater|\n",
            "+---------+--------+------------------+-----------+--------------+----------+----------+-------------+------------------+----------+\n",
            "|  -114.31|   34.19|              15.0|     5612.0|        1283.0|    1015.0|     472.0|       1.4936|           66900.0|   not met|\n",
            "|  -114.47|    34.4|              19.0|     7650.0|        1901.0|    1129.0|     463.0|         1.82|           80100.0|   not met|\n",
            "|  -114.56|   33.69|              17.0|      720.0|         174.0|     333.0|     117.0|       1.6509|           85700.0|   not met|\n",
            "|  -114.57|   33.64|              14.0|     1501.0|         337.0|     515.0|     226.0|       3.1917|           73400.0|   not met|\n",
            "+---------+--------+------------------+-----------+--------------+----------+----------+-------------+------------------+----------+\n",
            "only showing top 4 rows\n",
            "\n"
          ]
        }
      ]
    },
    {
      "cell_type": "code",
      "source": [
        "type(data)"
      ],
      "metadata": {
        "colab": {
          "base_uri": "https://localhost:8080/"
        },
        "id": "4TOG2Fbi-AGb",
        "outputId": "616d0506-b02d-4fd4-d915-742a567337e2"
      },
      "execution_count": null,
      "outputs": [
        {
          "output_type": "execute_result",
          "data": {
            "text/plain": [
              "pyspark.sql.dataframe.DataFrame"
            ]
          },
          "metadata": {},
          "execution_count": 24
        }
      ]
    },
    {
      "cell_type": "code",
      "source": [
        "data.show(2)"
      ],
      "metadata": {
        "colab": {
          "base_uri": "https://localhost:8080/"
        },
        "id": "mOuSUwyYv7jw",
        "outputId": "80f22627-4b77-4edd-fe90-e856c677ced7"
      },
      "execution_count": null,
      "outputs": [
        {
          "output_type": "stream",
          "name": "stdout",
          "text": [
            "+---------+--------+------------------+-----------+--------------+----------+----------+-------------+------------------+----------+\n",
            "|longitude|latitude|housing_median_age|total_rooms|total_bedrooms|population|households|median_income|median_house_value|is_greater|\n",
            "+---------+--------+------------------+-----------+--------------+----------+----------+-------------+------------------+----------+\n",
            "|  -114.31|   34.19|              15.0|     5612.0|        1283.0|    1015.0|     472.0|       1.4936|           66900.0|   not met|\n",
            "|  -114.47|    34.4|              19.0|     7650.0|        1901.0|    1129.0|     463.0|         1.82|           80100.0|   not met|\n",
            "+---------+--------+------------------+-----------+--------------+----------+----------+-------------+------------------+----------+\n",
            "only showing top 2 rows\n",
            "\n"
          ]
        }
      ]
    },
    {
      "cell_type": "code",
      "source": [
        "## Where and filter\n",
        "data.where(data['is_greater']=='Met').show(5)"
      ],
      "metadata": {
        "colab": {
          "base_uri": "https://localhost:8080/"
        },
        "id": "JbRlLy5nv7ml",
        "outputId": "3f8fec6d-ad20-4715-8136-f51f93fac5c8"
      },
      "execution_count": null,
      "outputs": [
        {
          "output_type": "stream",
          "name": "stdout",
          "text": [
            "+---------+--------+------------------+-----------+--------------+----------+----------+-------------+------------------+----------+\n",
            "|longitude|latitude|housing_median_age|total_rooms|total_bedrooms|population|households|median_income|median_house_value|is_greater|\n",
            "+---------+--------+------------------+-----------+--------------+----------+----------+-------------+------------------+----------+\n",
            "|  -114.57|   33.57|              20.0|     1454.0|         326.0|     624.0|     262.0|        1.925|           65500.0|       Met|\n",
            "|  -114.58|   33.63|              29.0|     1387.0|         236.0|     671.0|     239.0|       3.3438|           74000.0|       Met|\n",
            "|  -114.58|   33.61|              25.0|     2907.0|         680.0|    1841.0|     633.0|       2.6768|           82400.0|       Met|\n",
            "|  -114.59|   34.83|              41.0|      812.0|         168.0|     375.0|     158.0|       1.7083|           48500.0|       Met|\n",
            "|  -114.59|   33.61|              34.0|     4789.0|        1175.0|    3134.0|    1056.0|       2.1782|           58400.0|       Met|\n",
            "+---------+--------+------------------+-----------+--------------+----------+----------+-------------+------------------+----------+\n",
            "only showing top 5 rows\n",
            "\n"
          ]
        }
      ]
    },
    {
      "cell_type": "markdown",
      "source": [
        "##Group By"
      ],
      "metadata": {
        "id": "oa2rY0pQ-WIH"
      }
    },
    {
      "cell_type": "code",
      "source": [
        "data.groupby('is_greater').avg().show()"
      ],
      "metadata": {
        "id": "6X5NVNcZv7pH",
        "colab": {
          "base_uri": "https://localhost:8080/"
        },
        "outputId": "eb40c5e2-a589-4323-fcc1-9a45d48daadc"
      },
      "execution_count": null,
      "outputs": [
        {
          "output_type": "stream",
          "name": "stdout",
          "text": [
            "+----------+------------------+------------------+-----------------------+------------------+-------------------+------------------+-----------------+------------------+-----------------------+\n",
            "|is_greater|    avg(longitude)|     avg(latitude)|avg(housing_median_age)|  avg(total_rooms)|avg(total_bedrooms)|   avg(population)|  avg(households)|avg(median_income)|avg(median_house_value)|\n",
            "+----------+------------------+------------------+-----------------------+------------------+-------------------+------------------+-----------------+------------------+-----------------------+\n",
            "|   not met|-119.4165395772897|35.747101118938964|     13.313510153336097|3689.1947782842935|  714.5857853294654|1835.9639452963117|649.2818068794032| 4.184790924160781|      193819.8128885205|\n",
            "|       Met|-119.6198143584673| 35.57691062920978|      34.64498110727781|2229.1967307376376| 469.96821094135043|1268.4733859043863|442.5282569410218|3.7641717348447616|     212645.07088877936|\n",
            "+----------+------------------+------------------+-----------------------+------------------+-------------------+------------------+-----------------+------------------+-----------------------+\n",
            "\n"
          ]
        }
      ]
    },
    {
      "cell_type": "markdown",
      "source": [
        "# Register the DataFrame as a SQL temporary view"
      ],
      "metadata": {
        "id": "QCqXWyLSFfU5"
      }
    },
    {
      "cell_type": "code",
      "source": [
        "data.createOrReplaceTempView(\"HousingPrice\")"
      ],
      "metadata": {
        "id": "bZZbO30Ev7rm"
      },
      "execution_count": null,
      "outputs": []
    },
    {
      "cell_type": "code",
      "source": [
        "sqlDf=spark.sql(\"Select * from HousingPrice\")\n",
        "sqlDf.show(3)"
      ],
      "metadata": {
        "id": "wkIRCpX4v7t_",
        "colab": {
          "base_uri": "https://localhost:8080/"
        },
        "outputId": "2a0f9fe5-9c12-4d58-e94b-4e1d9a9d207e"
      },
      "execution_count": null,
      "outputs": [
        {
          "output_type": "stream",
          "name": "stdout",
          "text": [
            "+---------+--------+------------------+-----------+--------------+----------+----------+-------------+------------------+----------+\n",
            "|longitude|latitude|housing_median_age|total_rooms|total_bedrooms|population|households|median_income|median_house_value|is_greater|\n",
            "+---------+--------+------------------+-----------+--------------+----------+----------+-------------+------------------+----------+\n",
            "|  -114.31|   34.19|              15.0|     5612.0|        1283.0|    1015.0|     472.0|       1.4936|           66900.0|   not met|\n",
            "|  -114.47|    34.4|              19.0|     7650.0|        1901.0|    1129.0|     463.0|         1.82|           80100.0|   not met|\n",
            "|  -114.56|   33.69|              17.0|      720.0|         174.0|     333.0|     117.0|       1.6509|           85700.0|   not met|\n",
            "+---------+--------+------------------+-----------+--------------+----------+----------+-------------+------------------+----------+\n",
            "only showing top 3 rows\n",
            "\n"
          ]
        }
      ]
    },
    {
      "cell_type": "code",
      "source": [],
      "metadata": {
        "id": "9nNac5e4rhP4"
      },
      "execution_count": null,
      "outputs": []
    },
    {
      "cell_type": "code",
      "source": [],
      "metadata": {
        "id": "F5qh8EXkrhSi"
      },
      "execution_count": null,
      "outputs": []
    }
  ]
}